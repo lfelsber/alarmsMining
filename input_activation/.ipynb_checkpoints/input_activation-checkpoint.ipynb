{
 "cells": [
  {
   "cell_type": "markdown",
   "metadata": {},
   "source": [
    "# Compare analyzers on MNIST"
   ]
  },
  {
   "cell_type": "markdown",
   "metadata": {},
   "source": [
    "This notebook shows how saliency maps are computed for various methods on the MNIST dataset. We will first train a simple 3-layer MLP and then apply different methods. In the end we allow for a qualitive assesment by plotting the analysis as a grid.\n",
    "\n",
    "Parts of the code that do not contribute to the main focus are outsourced into utility modules. To learn more about the basic usage of **iNNvestigate** have look into this notebook: [Introduction to iNNvestigate](introduction.ipynb)"
   ]
  },
  {
   "cell_type": "markdown",
   "metadata": {},
   "source": [
    "## Imports"
   ]
  },
  {
   "cell_type": "code",
   "execution_count": 1,
   "metadata": {},
   "outputs": [],
   "source": [
    "%load_ext autoreload\n",
    "%autoreload 2\n",
    "\n",
    "import warnings\n",
    "warnings.simplefilter('ignore')"
   ]
  },
  {
   "cell_type": "code",
   "execution_count": 2,
   "metadata": {},
   "outputs": [
    {
     "name": "stderr",
     "output_type": "stream",
     "text": [
      "Using TensorFlow backend.\n"
     ]
    }
   ],
   "source": [
    "%matplotlib inline  \n",
    "\n",
    "import imp\n",
    "import numpy as np\n",
    "import os\n",
    "\n",
    "import keras\n",
    "import keras.backend\n",
    "from keras.models import load_model\n",
    "\n",
    "import innvestigate\n",
    "import innvestigate.utils as iutils\n",
    "\n",
    "# Use utility libraries to focus on relevant iNNvestigate routines.\n",
    "eutils = imp.load_source(\"utils\", \"utils.py\")\n",
    "mnistutils = imp.load_source(\"utils_mnist\", \"utils_mnist.py\")"
   ]
  },
  {
   "cell_type": "markdown",
   "metadata": {},
   "source": [
    "## Data\n",
    "Load the dataset and keep some images from the test set for the analysis."
   ]
  },
  {
   "cell_type": "code",
   "execution_count": 3,
   "metadata": {},
   "outputs": [],
   "source": [
    "# Load data\n",
    "x_train=np.load('x_train.npy')\n",
    "y_train=np.load('y_train.npy')\n",
    "x_test=np.load('x_test.npy')\n",
    "y_test=np.load('y_test.npy')\n",
    "\n",
    "data=(x_train,y_train,x_test,y_test)\n",
    "\n",
    "\n",
    "num_classes = len(np.unique(data[1]))\n",
    "label_to_class_name = [str(i) for i in range(num_classes)]\n",
    "\n",
    "input_range=[np.min(x_train),np.max(x_train)]"
   ]
  },
  {
   "cell_type": "markdown",
   "metadata": {},
   "source": [
    "## Model"
   ]
  },
  {
   "cell_type": "code",
   "execution_count": 4,
   "metadata": {},
   "outputs": [
    {
     "name": "stdout",
     "output_type": "stream",
     "text": [
      "Epoch 1/4\n",
      "60000/60000 [==============================] - 175s 3ms/step - loss: 0.1536 - acc: 0.9533\n",
      "Epoch 2/4\n",
      "60000/60000 [==============================] - 162s 3ms/step - loss: 0.0395 - acc: 0.9877\n",
      "Epoch 3/4\n",
      "60000/60000 [==============================] - 179s 3ms/step - loss: 0.0234 - acc: 0.9924\n",
      "Epoch 4/4\n",
      "60000/60000 [==============================] - 158s 3ms/step - loss: 0.0143 - acc: 0.9956\n",
      "Scores on test set: loss=0.03419890456250905 accuracy=0.9902\n"
     ]
    }
   ],
   "source": [
    "# load existing model\n",
    "model, preprocess = load_model('best_model.hdf5'), 0\n"
   ]
  },
  {
   "cell_type": "markdown",
   "metadata": {},
   "source": [
    "## Analysis"
   ]
  },
  {
   "cell_type": "markdown",
   "metadata": {},
   "source": [
    "Next, we will set up a list of analysis methods by preparing tuples containing the methods' string identifiers used by `innvestigate.analyzer.create_analyzer(...)`, some optional parameters, a post processing choice for visualizing the computed analysis and a title for the figure to render. Analyzers can be deactivated by simply commenting the corresponding lines, or added by creating a new tuple as below.\n",
    "\n",
    "For a full list of methods refer to the dictionary `investigate.analyzer.analyzers`"
   ]
  },
  {
   "cell_type": "code",
   "execution_count": 5,
   "metadata": {},
   "outputs": [],
   "source": [
    "# Scale to [0, 1] range for plotting.\n",
    "def input_postprocessing(X):\n",
    "    return X\n",
    "\n",
    "noise_scale = (input_range[1]-input_range[0]) * 0.1\n",
    "ri = input_range[0]  # reference input\n",
    "\n",
    "\n",
    "# Configure analysis methods and properties\n",
    "methods = [\n",
    "    # NAME                    OPT.PARAMS                POSTPROC FXN               TITLE\n",
    "\n",
    "    # Show input\n",
    "    (\"input\",                 {},                       input_postprocessing,      \"Input\"),\n",
    "\n",
    "    # Function\n",
    "    (\"gradient\",              {\"postprocess\": \"abs\"},   mnistutils.graymap,        \"Gradient\"),\n",
    "    (\"smoothgrad\",            {\"noise_scale\": noise_scale,\n",
    "                               \"postprocess\": \"square\"},mnistutils.graymap,        \"SmoothGrad\"),\n",
    "\n",
    "    # Signal\n",
    "    (\"deconvnet\",             {},                       mnistutils.bk_proj,        \"Deconvnet\"),\n",
    "    (\"guided_backprop\",       {},                       mnistutils.bk_proj,        \"Guided Backprop\",),\n",
    "    (\"pattern.net\",           {\"pattern_type\": \"relu\"}, mnistutils.bk_proj,        \"PatternNet\"),\n",
    "\n",
    "    # Interaction\n",
    "    (\"pattern.attribution\",   {\"pattern_type\": \"relu\"}, mnistutils.heatmap,        \"PatternAttribution\"),\n",
    "    (\"deep_taylor.bounded\",   {\"low\": input_range[0],\n",
    "                               \"high\": input_range[1]}, mnistutils.heatmap,        \"DeepTaylor\"),\n",
    "    (\"input_t_gradient\",      {},                       mnistutils.heatmap,        \"Input * Gradient\"),\n",
    "    (\"integrated_gradients\",  {\"reference_inputs\": ri}, mnistutils.heatmap,        \"Integrated Gradients\"),\n",
    "    (\"deep_lift.wrapper\",     {\"reference_inputs\": ri}, mnistutils.heatmap,        \"DeepLIFT Wrapper - Rescale\"),\n",
    "    (\"deep_lift.wrapper\",     {\"reference_inputs\": ri, \"nonlinear_mode\": \"reveal_cancel\"},\n",
    "                                                        mnistutils.heatmap,        \"DeepLIFT Wrapper - RevealCancel\"),\n",
    "    (\"lrp.z\",                 {},                       mnistutils.heatmap,        \"LRP-Z\"),\n",
    "    (\"lrp.epsilon\",           {\"epsilon\": 1},           mnistutils.heatmap,        \"LRP-Epsilon\"),\n",
    "]"
   ]
  },
  {
   "cell_type": "markdown",
   "metadata": {},
   "source": [
    "The main loop below will now instantiate the analyzer objects based on the loaded/trained model and the analyzers' parameterizations above."
   ]
  },
  {
   "cell_type": "code",
   "execution_count": 6,
   "metadata": {},
   "outputs": [
    {
     "name": "stdout",
     "output_type": "stream",
     "text": [
      "Epoch 1/1\n",
      "235/235 [==============================] - 310s 1s/step - loss: 4.0000 - broadcast_1_loss: 1.0000 - broadcast_2_loss: 1.0000 - broadcast_3_loss: 1.0000 - broadcast_4_loss: 1.0000\n",
      "Epoch 1/1\n",
      "235/235 [==============================] - 307s 1s/step - loss: 4.0000 - broadcast_5_loss: 1.0000 - broadcast_6_loss: 1.0000 - broadcast_7_loss: 1.0000 - broadcast_8_loss: 1.0000\n"
     ]
    }
   ],
   "source": [
    "# Create model without trailing softmax\n",
    "model_wo_softmax = iutils.keras.graph.model_wo_softmax(model)\n",
    "\n",
    "# Create analyzers.\n",
    "analyzers = []\n",
    "for method in methods:\n",
    "    analyzer = innvestigate.create_analyzer(method[0],        # analysis method identifier\n",
    "                                            model_wo_softmax, # model without softmax output\n",
    "                                            **method[1])      # optional analysis parameters\n",
    "\n",
    "    # Some analyzers require training.\n",
    "    analyzer.fit(data[0], batch_size=256, verbose=1)\n",
    "    analyzers.append(analyzer)"
   ]
  },
  {
   "cell_type": "markdown",
   "metadata": {},
   "source": [
    "Now we analyze each image with the different analyzers:"
   ]
  },
  {
   "cell_type": "code",
   "execution_count": 7,
   "metadata": {},
   "outputs": [
    {
     "ename": "TypeError",
     "evalue": "project() got an unexpected keyword argument 'input_is_postive_only'",
     "output_type": "error",
     "traceback": [
      "\u001b[1;31m---------------------------------------------------------------------------\u001b[0m",
      "\u001b[1;31mTypeError\u001b[0m                                 Traceback (most recent call last)",
      "\u001b[1;32m<ipython-input-7-c40d16063800>\u001b[0m in \u001b[0;36m<module>\u001b[1;34m()\u001b[0m\n\u001b[0;32m     31\u001b[0m         \u001b[1;31m# Apply analysis postprocessing, e.g., creating a heatmap.\u001b[0m\u001b[1;33m\u001b[0m\u001b[1;33m\u001b[0m\u001b[0m\n\u001b[0;32m     32\u001b[0m         \u001b[0mprint\u001b[0m\u001b[1;33m(\u001b[0m\u001b[0maidx\u001b[0m\u001b[1;33m)\u001b[0m\u001b[1;33m\u001b[0m\u001b[0m\n\u001b[1;32m---> 33\u001b[1;33m         \u001b[0ma\u001b[0m \u001b[1;33m=\u001b[0m \u001b[0mmethods\u001b[0m\u001b[1;33m[\u001b[0m\u001b[0maidx\u001b[0m\u001b[1;33m]\u001b[0m\u001b[1;33m[\u001b[0m\u001b[1;36m2\u001b[0m\u001b[1;33m]\u001b[0m\u001b[1;33m(\u001b[0m\u001b[0ma\u001b[0m\u001b[1;33m)\u001b[0m\u001b[1;33m\u001b[0m\u001b[0m\n\u001b[0m\u001b[0;32m     34\u001b[0m         \u001b[1;31m# Store the analysis.\u001b[0m\u001b[1;33m\u001b[0m\u001b[1;33m\u001b[0m\u001b[0m\n\u001b[0;32m     35\u001b[0m         \u001b[0manalysis\u001b[0m\u001b[1;33m[\u001b[0m\u001b[0mi\u001b[0m\u001b[1;33m,\u001b[0m \u001b[0maidx\u001b[0m\u001b[1;33m]\u001b[0m \u001b[1;33m=\u001b[0m \u001b[0ma\u001b[0m\u001b[1;33m[\u001b[0m\u001b[1;36m0\u001b[0m\u001b[1;33m]\u001b[0m\u001b[1;33m\u001b[0m\u001b[0m\n",
      "\u001b[1;32m~\\innvestigate\\examples\\utils_mnist.py\u001b[0m in \u001b[0;36mgraymap\u001b[1;34m(X)\u001b[0m\n\u001b[0;32m    169\u001b[0m \u001b[1;33m\u001b[0m\u001b[0m\n\u001b[0;32m    170\u001b[0m \u001b[1;32mdef\u001b[0m \u001b[0mgraymap\u001b[0m\u001b[1;33m(\u001b[0m\u001b[0mX\u001b[0m\u001b[1;33m)\u001b[0m\u001b[1;33m:\u001b[0m\u001b[1;33m\u001b[0m\u001b[0m\n\u001b[1;32m--> 171\u001b[1;33m     \u001b[1;32mreturn\u001b[0m \u001b[0mivis\u001b[0m\u001b[1;33m.\u001b[0m\u001b[0mgraymap\u001b[0m\u001b[1;33m(\u001b[0m\u001b[0mnp\u001b[0m\u001b[1;33m.\u001b[0m\u001b[0mabs\u001b[0m\u001b[1;33m(\u001b[0m\u001b[0mX\u001b[0m\u001b[1;33m)\u001b[0m\u001b[1;33m,\u001b[0m \u001b[0minput_is_postive_only\u001b[0m\u001b[1;33m=\u001b[0m\u001b[1;32mTrue\u001b[0m\u001b[1;33m)\u001b[0m\u001b[1;33m\u001b[0m\u001b[0m\n\u001b[0m",
      "\u001b[1;32m~\\AppData\\Local\\Continuum\\anaconda3\\lib\\site-packages\\innvestigate\\utils\\visualizations.py\u001b[0m in \u001b[0;36mgraymap\u001b[1;34m(X, **kwargs)\u001b[0m\n\u001b[0;32m    103\u001b[0m \u001b[1;32mdef\u001b[0m \u001b[0mgraymap\u001b[0m\u001b[1;33m(\u001b[0m\u001b[0mX\u001b[0m\u001b[1;33m,\u001b[0m \u001b[1;33m**\u001b[0m\u001b[0mkwargs\u001b[0m\u001b[1;33m)\u001b[0m\u001b[1;33m:\u001b[0m\u001b[1;33m\u001b[0m\u001b[0m\n\u001b[0;32m    104\u001b[0m     \u001b[1;34m\"\"\"Same as :func:`heatmap` but uses a gray colormap.\"\"\"\u001b[0m\u001b[1;33m\u001b[0m\u001b[0m\n\u001b[1;32m--> 105\u001b[1;33m     \u001b[1;32mreturn\u001b[0m \u001b[0mheatmap\u001b[0m\u001b[1;33m(\u001b[0m\u001b[0mX\u001b[0m\u001b[1;33m,\u001b[0m \u001b[0mcmap_type\u001b[0m\u001b[1;33m=\u001b[0m\u001b[1;34m\"gray\"\u001b[0m\u001b[1;33m,\u001b[0m \u001b[1;33m**\u001b[0m\u001b[0mkwargs\u001b[0m\u001b[1;33m)\u001b[0m\u001b[1;33m\u001b[0m\u001b[0m\n\u001b[0m\u001b[0;32m    106\u001b[0m \u001b[1;33m\u001b[0m\u001b[0m\n\u001b[0;32m    107\u001b[0m \u001b[1;33m\u001b[0m\u001b[0m\n",
      "\u001b[1;32m~\\AppData\\Local\\Continuum\\anaconda3\\lib\\site-packages\\innvestigate\\utils\\visualizations.py\u001b[0m in \u001b[0;36mheatmap\u001b[1;34m(X, cmap_type, reduce_op, reduce_axis, alpha_cmap, **kwargs)\u001b[0m\n\u001b[0;32m     88\u001b[0m         \u001b[1;32mraise\u001b[0m \u001b[0mNotImplementedError\u001b[0m\u001b[1;33m(\u001b[0m\u001b[1;33m)\u001b[0m\u001b[1;33m\u001b[0m\u001b[0m\n\u001b[0;32m     89\u001b[0m \u001b[1;33m\u001b[0m\u001b[0m\n\u001b[1;32m---> 90\u001b[1;33m     \u001b[0mtmp\u001b[0m \u001b[1;33m=\u001b[0m \u001b[0mproject\u001b[0m\u001b[1;33m(\u001b[0m\u001b[0mtmp\u001b[0m\u001b[1;33m,\u001b[0m \u001b[0moutput_range\u001b[0m\u001b[1;33m=\u001b[0m\u001b[1;33m(\u001b[0m\u001b[1;36m0\u001b[0m\u001b[1;33m,\u001b[0m \u001b[1;36m255\u001b[0m\u001b[1;33m)\u001b[0m\u001b[1;33m,\u001b[0m \u001b[1;33m**\u001b[0m\u001b[0mkwargs\u001b[0m\u001b[1;33m)\u001b[0m\u001b[1;33m.\u001b[0m\u001b[0mastype\u001b[0m\u001b[1;33m(\u001b[0m\u001b[0mnp\u001b[0m\u001b[1;33m.\u001b[0m\u001b[0mint64\u001b[0m\u001b[1;33m)\u001b[0m\u001b[1;33m\u001b[0m\u001b[0m\n\u001b[0m\u001b[0;32m     91\u001b[0m \u001b[1;33m\u001b[0m\u001b[0m\n\u001b[0;32m     92\u001b[0m     \u001b[1;32mif\u001b[0m \u001b[0malpha_cmap\u001b[0m\u001b[1;33m:\u001b[0m\u001b[1;33m\u001b[0m\u001b[0m\n",
      "\u001b[1;31mTypeError\u001b[0m: project() got an unexpected keyword argument 'input_is_postive_only'"
     ]
    }
   ],
   "source": [
    "%%capture\n",
    "\n",
    "n = 10\n",
    "test_images = list(zip(data[2][:n], data[3][:n]))\n",
    "\n",
    "analysis = np.zeros([len(test_images), len(analyzers), 28, 28, 3])\n",
    "text = []\n",
    "\n",
    "\n",
    "for i, (x, y) in enumerate(test_images):\n",
    "    # Add batch axis.\n",
    "    x = x[None, :, :, :]\n",
    "    \n",
    "    # Predict final activations, probabilites, and label.\n",
    "    presm = model_wo_softmax.predict_on_batch(x)[0]\n",
    "    prob = model.predict_on_batch(x)[0]\n",
    "    y_hat = prob.argmax()\n",
    "    \n",
    "    # Save prediction info:\n",
    "    text.append((\"%s\" % label_to_class_name[y],    # ground truth label\n",
    "                 \"%.2f\" % presm.max(),             # pre-softmax logits\n",
    "                 \"%.2f\" % prob.max(),              # probabilistic softmax output  \n",
    "                 \"%s\" % label_to_class_name[y_hat] # predicted label\n",
    "                ))\n",
    "\n",
    "    for aidx, analyzer in enumerate(analyzers):\n",
    "        # Analyze.\n",
    "        a = analyzer.analyze(x)\n",
    "        \n",
    "        # Apply common postprocessing, e.g., re-ordering the channels for plotting.\n",
    "        a = mnistutils.postprocess(a)\n",
    "        # Apply analysis postprocessing, e.g., creating a heatmap.\n",
    "        print(aidx)\n",
    "        a = methods[aidx][2](a)\n",
    "        # Store the analysis.\n",
    "        analysis[i, aidx] = a[0]"
   ]
  },
  {
   "cell_type": "markdown",
   "metadata": {},
   "source": [
    "Next, we visualize the analysis results:"
   ]
  },
  {
   "cell_type": "code",
   "execution_count": 8,
   "metadata": {},
   "outputs": [
    {
     "ename": "IndexError",
     "evalue": "list index out of range",
     "output_type": "error",
     "traceback": [
      "\u001b[1;31m---------------------------------------------------------------------------\u001b[0m",
      "\u001b[1;31mIndexError\u001b[0m                                Traceback (most recent call last)",
      "\u001b[1;32m<ipython-input-8-3aa9b0785a02>\u001b[0m in \u001b[0;36m<module>\u001b[1;34m()\u001b[0m\n\u001b[0;32m     10\u001b[0m \u001b[1;31m# Plot the analysis.\u001b[0m\u001b[1;33m\u001b[0m\u001b[1;33m\u001b[0m\u001b[0m\n\u001b[0;32m     11\u001b[0m eutils.plot_image_grid(grid, row_labels_left, row_labels_right, col_labels,\n\u001b[1;32m---> 12\u001b[1;33m                        file_name=os.environ.get(\"PLOTFILENAME\", None))\n\u001b[0m",
      "\u001b[1;32m~\\innvestigate\\examples\\utils.py\u001b[0m in \u001b[0;36mplot_image_grid\u001b[1;34m(grid, row_labels_left, row_labels_right, col_labels, file_name, figsize, dpi)\u001b[0m\n\u001b[0;32m    117\u001b[0m             \u001b[1;32mif\u001b[0m \u001b[1;32mnot\u001b[0m \u001b[0mc\u001b[0m\u001b[1;33m:\u001b[0m\u001b[1;33m\u001b[0m\u001b[0m\n\u001b[0;32m    118\u001b[0m                 \u001b[1;32mif\u001b[0m \u001b[0mrow_labels_left\u001b[0m \u001b[1;33m!=\u001b[0m \u001b[1;33m[\u001b[0m\u001b[1;33m]\u001b[0m\u001b[1;33m:\u001b[0m\u001b[1;33m\u001b[0m\u001b[0m\n\u001b[1;32m--> 119\u001b[1;33m                     \u001b[0mtxt_left\u001b[0m \u001b[1;33m=\u001b[0m \u001b[1;33m[\u001b[0m\u001b[0ml\u001b[0m\u001b[1;33m+\u001b[0m\u001b[1;34m'\\n'\u001b[0m \u001b[1;32mfor\u001b[0m \u001b[0ml\u001b[0m \u001b[1;32min\u001b[0m \u001b[0mrow_labels_left\u001b[0m\u001b[1;33m[\u001b[0m\u001b[0mr\u001b[0m\u001b[1;33m]\u001b[0m\u001b[1;33m]\u001b[0m\u001b[1;33m\u001b[0m\u001b[0m\n\u001b[0m\u001b[0;32m    120\u001b[0m                     ax.set_ylabel(\n\u001b[0;32m    121\u001b[0m                         \u001b[1;34m''\u001b[0m\u001b[1;33m.\u001b[0m\u001b[0mjoin\u001b[0m\u001b[1;33m(\u001b[0m\u001b[0mtxt_left\u001b[0m\u001b[1;33m)\u001b[0m\u001b[1;33m,\u001b[0m\u001b[1;33m\u001b[0m\u001b[0m\n",
      "\u001b[1;31mIndexError\u001b[0m: list index out of range"
     ]
    },
    {
     "data": {
      "text/plain": [
       "<Figure size 432x288 with 0 Axes>"
      ]
     },
     "metadata": {},
     "output_type": "display_data"
    },
    {
     "data": {
      "image/png": "[encoded data removed]",
      "text/plain": [
       "<Figure size 1008x792 with 16 Axes>"
      ]
     },
     "metadata": {},
     "output_type": "display_data"
    }
   ],
   "source": [
    "# Prepare the grid as rectengular list\n",
    "grid = [[analysis[i, j] for j in range(analysis.shape[1])]\n",
    "        for i in range(analysis.shape[0])]\n",
    "# Prepare the labels\n",
    "label, presm, prob, pred = zip(*text)\n",
    "row_labels_left = [('label: {}'.format(label[i]), 'pred: {}'.format(pred[i])) for i in range(len(label))]\n",
    "row_labels_right = [('logit: {}'.format(presm[i]), 'prob: {}'.format(prob[i])) for i in range(len(label))]\n",
    "col_labels = [''.join(method[3]) for method in methods]\n",
    "\n",
    "# Plot the analysis.\n",
    "eutils.plot_image_grid(grid, row_labels_left, row_labels_right, col_labels,\n",
    "                       file_name=os.environ.get(\"PLOTFILENAME\", None))"
   ]
  },
  {
   "cell_type": "markdown",
   "metadata": {
    "collapsed": true
   },
   "source": [
    "Each column shows the visualized results for different analyzers and each row shows the analyses w.r.t. to one input sample. To the left of each row, the ground truth label `label` and the predicted label `pred` are show. To the right, the model's probabilistic (softmax) output is shown as `prob` and the logit output just before the terminating softmax layer as `logit`. Note that all analyses have been performed based on the logit output (layer).\n",
    "\n",
    "This figure shows the analysis w.r.t. to most activated neuron, e.g., *actually predicted* class. To see how to analyze the prediction w.r.t. to other neurons/classes have a look here: [Analyzing different classes with MNIST](mnist_neuron_selection.ipynb)\n",
    "\n",
    "If you are curious about how *iNNvestigate* performs on ImageNet model, have a look here: [Comparing methods on ImageNet](imagenet_method_comparison.ipynb) and [Comparing networks on ImageNet](imagenet_network_comparison.ipynb)"
   ]
  }
 ],
 "metadata": {
  "kernelspec": {
   "display_name": "Python 3",
   "language": "python",
   "name": "python3"
  },
  "language_info": {
   "codemirror_mode": {
    "name": "ipython",
    "version": 3
   },
   "file_extension": ".py",
   "mimetype": "text/x-python",
   "name": "python",
   "nbconvert_exporter": "python",
   "pygments_lexer": "ipython3",
   "version": "3.6.5"
  }
 },
 "nbformat": 4,
 "nbformat_minor": 2
}
